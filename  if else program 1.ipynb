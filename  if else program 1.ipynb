{
 "cells": [
  {
   "cell_type": "code",
   "execution_count": 1,
   "id": "12e2114f",
   "metadata": {},
   "outputs": [
    {
     "name": "stdout",
     "output_type": "stream",
     "text": [
      "welcome to rollercoaster !\n",
      "what is your height?12\n",
      "your allowed to go for ROllercoaster\n"
     ]
    }
   ],
   "source": [
    "#this line of code checks if your height is less than 120 this code of lines wont allow you go for rollercoaster\n",
    "\n",
    "print(\"welcome to rollercoaster !\")\n",
    "height = int(input(\"what is your height?\"))\n",
    "if height <= 120:\n",
    "    print(\"your allowed to go for ROllercoaster\")\n",
    "else:\n",
    "    print(\"sorry your height not that much to go for rollercoaster\")\n",
    "    "
   ]
  },
  {
   "cell_type": "code",
   "execution_count": 2,
   "id": "61c0db4b",
   "metadata": {},
   "outputs": [
    {
     "name": "stdout",
     "output_type": "stream",
     "text": [
      "enter number12\n",
      "it is even number !\n"
     ]
    }
   ],
   "source": [
    "#these lines of code is used to check weather the number is even or odd number \n",
    "number = int(input(\"enter number\"))\n",
    "\n",
    "if number % 2 == 0:\n",
    "    print(\"it is even number !\")\n",
    "else:\n",
    "    print(\"it is odd number !\")\n",
    "    "
   ]
  },
  {
   "cell_type": "code",
   "execution_count": 31,
   "id": "752b8105",
   "metadata": {},
   "outputs": [
    {
     "name": "stdout",
     "output_type": "stream",
     "text": [
      "Enter the height of the user:140\n",
      "you can ride the rollercoaster\n",
      "Enter your age?19\n",
      "you have to pay $7 \n"
     ]
    }
   ],
   "source": [
    "height=int(input('Enter the height of the user:'))\n",
    "if height >= 120:\n",
    "    print(\"you can ride the rollercoaster\")\n",
    "    age = int(input(\"Enter your age?\"))\n",
    "    if age <= 18:\n",
    "        print(\"you have to pay $5\")\n",
    "    else:\n",
    "        print(\"you have to pay $7 \")\n",
    "            \n",
    "else:\n",
    "    print(\"you have to grow taller can't ride the rollercoaster\")"
   ]
  },
  {
   "cell_type": "code",
   "execution_count": null,
   "id": "80d14ecf",
   "metadata": {},
   "outputs": [],
   "source": []
  }
 ],
 "metadata": {
  "kernelspec": {
   "display_name": "Python 3 (ipykernel)",
   "language": "python",
   "name": "python3"
  },
  "language_info": {
   "codemirror_mode": {
    "name": "ipython",
    "version": 3
   },
   "file_extension": ".py",
   "mimetype": "text/x-python",
   "name": "python",
   "nbconvert_exporter": "python",
   "pygments_lexer": "ipython3",
   "version": "3.11.5"
  }
 },
 "nbformat": 4,
 "nbformat_minor": 5
}
