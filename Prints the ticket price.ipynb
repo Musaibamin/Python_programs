{
 "cells": [
  {
   "cell_type": "code",
   "execution_count": null,
   "id": "59dc500f",
   "metadata": {},
   "outputs": [],
   "source": [
    "\n"
   ]
  },
  {
   "cell_type": "code",
   "execution_count": 23,
   "id": "b37b9184",
   "metadata": {},
   "outputs": [
    {
     "name": "stdout",
     "output_type": "stream",
     "text": [
      "Enter Your Age: \n",
      "95\n",
      "You have to pay $10\n"
     ]
    }
   ],
   "source": [
    "#Write a Python program that takes the age of a person as input and prints the ticket price based on the following conditions:\n",
    "\n",
    "#0-5 years: Free\n",
    "#6-12 years: $10\n",
    "#13-18 years: $15\n",
    "#19-60 years: $20\n",
    "#61 and above: $10\n",
    "\n",
    "age = int(input(\"Enter Your Age: \\n\"))\n",
    "if age >= 0 and age <= 5:\n",
    "    print(\"Ticket is Free\")\n",
    "elif age >= 6 and age <= 12:\n",
    "    print(\"You have to pay $10\")\n",
    "elif age >= 13 and age <=18:\n",
    "    print(\"You have to pay $15 \")\n",
    "elif age >= 19 and age <=60:\n",
    "    print(\"You have to pay $20 \")\n",
    "else:\n",
    "    print(\"You have to pay $10\")\n",
    "    "
   ]
  }
 ],
 "metadata": {
  "kernelspec": {
   "display_name": "Python 3 (ipykernel)",
   "language": "python",
   "name": "python3"
  },
  "language_info": {
   "codemirror_mode": {
    "name": "ipython",
    "version": 3
   },
   "file_extension": ".py",
   "mimetype": "text/x-python",
   "name": "python",
   "nbconvert_exporter": "python",
   "pygments_lexer": "ipython3",
   "version": "3.11.5"
  }
 },
 "nbformat": 4,
 "nbformat_minor": 5
}
