{
 "cells": [
  {
   "cell_type": "code",
   "execution_count": null,
   "id": "77de9334",
   "metadata": {},
   "outputs": [],
   "source": []
  },
  {
   "cell_type": "code",
   "execution_count": null,
   "id": "83936d05",
   "metadata": {},
   "outputs": [],
   "source": []
  },
  {
   "cell_type": "code",
   "execution_count": null,
   "id": "d566cef7",
   "metadata": {},
   "outputs": [],
   "source": []
  },
  {
   "cell_type": "code",
   "execution_count": 178,
   "id": "40856e27",
   "metadata": {},
   "outputs": [
    {
     "name": "stdout",
     "output_type": "stream",
     "text": [
      "Welcome to rollercoaster\n",
      "ENTER YOUR HEIGHT?2000\n",
      "your allowed to go for ride \n",
      "enter your age?20000\n",
      "you have to pay $20\n",
      "you want to take photo taken? Y or N.Y\n",
      "your final bill 8\n"
     ]
    }
   ],
   "source": [
    "#elif statement\n",
    "print(\"Welcome to rollercoaster\")\n",
    "height = int(input(\"ENTER YOUR HEIGHT?\"))\n",
    "if height >= 123:\n",
    "    print(\"your allowed to go for ride \")\n",
    "    age = int(input(\"enter your age?\"))\n",
    "    if age > 15:\n",
    "        bill = 5\n",
    "        print(\"you have to pay $20\")\n",
    "    elif age <= 15:\n",
    "        bill = 10\n",
    "        print(\"you have to pay $2\")\n",
    "        \n",
    "    elif age == 15:\n",
    "        bill = 20\n",
    "        print(\"you have to pay $19\")\n",
    "    Want_photo = input(\"you want to take photo taken? Y or N.\")\n",
    "    if Want_photo== \"Y\":\n",
    "        bill = bill+ 3\n",
    "        print(\"your final bill\",bill)\n",
    "else:\n",
    "    print(\"your not allowed to go for ride \")\n",
    " "
   ]
  },
  {
   "cell_type": "code",
   "execution_count": null,
   "id": "285c7091",
   "metadata": {},
   "outputs": [],
   "source": []
  },
  {
   "cell_type": "code",
   "execution_count": null,
   "id": "5d0d7873",
   "metadata": {},
   "outputs": [],
   "source": []
  }
 ],
 "metadata": {
  "kernelspec": {
   "display_name": "Python 3 (ipykernel)",
   "language": "python",
   "name": "python3"
  },
  "language_info": {
   "codemirror_mode": {
    "name": "ipython",
    "version": 3
   },
   "file_extension": ".py",
   "mimetype": "text/x-python",
   "name": "python",
   "nbconvert_exporter": "python",
   "pygments_lexer": "ipython3",
   "version": "3.11.5"
  }
 },
 "nbformat": 4,
 "nbformat_minor": 5
}
