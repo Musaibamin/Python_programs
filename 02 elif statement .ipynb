{
 "cells": [
  {
   "cell_type": "code",
   "execution_count": null,
   "id": "a91bff42",
   "metadata": {},
   "outputs": [],
   "source": []
  },
  {
   "cell_type": "code",
   "execution_count": null,
   "id": "de3efc3d",
   "metadata": {},
   "outputs": [],
   "source": []
  },
  {
   "cell_type": "code",
   "execution_count": 28,
   "id": "0bdcaa8b",
   "metadata": {
    "scrolled": true
   },
   "outputs": [
    {
     "name": "stdout",
     "output_type": "stream",
     "text": [
      "ENTER YOUR HEIGHT?125\n",
      "your allowed to go for ride \n",
      "enter your age?300\n",
      "you have to pay $20\n"
     ]
    }
   ],
   "source": [
    "#elif statement\n",
    "height = int(input(\"ENTER YOUR HEIGHT?\"))\n",
    "if height >= 123:\n",
    "    print(\"your allowed to go for ride \")\n",
    "    age = int(input(\"enter your age?\"))\n",
    "    if age > 15:\n",
    "        print(\"you have to pay $20\")\n",
    "    elif age <= 15:\n",
    "        print(\"you have to pay $2\")\n",
    "        \n",
    "    elif age == 15:\n",
    "        print(\"you have to pay $19\")\n",
    "else:\n",
    "    print(\"your not allowed to go for ride \")\n",
    " "
   ]
  },
  {
   "cell_type": "code",
   "execution_count": null,
   "id": "1618e633",
   "metadata": {},
   "outputs": [],
   "source": []
  }
 ],
 "metadata": {
  "kernelspec": {
   "display_name": "Python 3 (ipykernel)",
   "language": "python",
   "name": "python3"
  },
  "language_info": {
   "codemirror_mode": {
    "name": "ipython",
    "version": 3
   },
   "file_extension": ".py",
   "mimetype": "text/x-python",
   "name": "python",
   "nbconvert_exporter": "python",
   "pygments_lexer": "ipython3",
   "version": "3.11.5"
  }
 },
 "nbformat": 4,
 "nbformat_minor": 5
}
