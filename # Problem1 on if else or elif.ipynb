{
 "cells": [
  {
   "cell_type": "code",
   "execution_count": null,
   "id": "4de27845",
   "metadata": {},
   "outputs": [],
   "source": [
    "#problem 1: Write a Python program that takes a student's score as input and prints out their corresponding grade according to the following grading scale:\n",
    "#1.    90-100: A\n",
    "#2.    80-89: B\n",
    "#3.     70-79: C\n",
    "#4.      60-69: D\n",
    "#5.     Below 60: F  \n"
   ]
  },
  {
   "cell_type": "code",
   "execution_count": 1,
   "id": "5f20b5ca",
   "metadata": {},
   "outputs": [
    {
     "name": "stdout",
     "output_type": "stream",
     "text": [
      "Enter your Grade number1\n",
      "Your Fail\n"
     ]
    }
   ],
   "source": [
    "grade = int(input(\"Enter your Grade number\"))\n",
    "\n",
    "if grade >= 90 and grade <= 100:\n",
    "    print(\"A grade\")\n",
    "elif grade >= 80 and grade <= 89:\n",
    "    print(\"B grade\")\n",
    "elif  grade >=70 and grade <= 79:\n",
    "    print(\"C grade\")\n",
    "elif grade >= 60 and grade <= 69:\n",
    "    print(\"D grade\")\n",
    "else:\n",
    "    print(\"Your Fail\")\n",
    "    \n"
   ]
  }
 ],
 "metadata": {
  "kernelspec": {
   "display_name": "Python 3 (ipykernel)",
   "language": "python",
   "name": "python3"
  },
  "language_info": {
   "codemirror_mode": {
    "name": "ipython",
    "version": 3
   },
   "file_extension": ".py",
   "mimetype": "text/x-python",
   "name": "python",
   "nbconvert_exporter": "python",
   "pygments_lexer": "ipython3",
   "version": "3.11.5"
  }
 },
 "nbformat": 4,
 "nbformat_minor": 5
}
