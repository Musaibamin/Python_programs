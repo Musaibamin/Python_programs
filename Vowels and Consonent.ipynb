{
 "cells": [
  {
   "cell_type": "code",
   "execution_count": 21,
   "id": "684bb73c",
   "metadata": {},
   "outputs": [
    {
     "name": "stdout",
     "output_type": "stream",
     "text": [
      "Enter the alphabet \n",
      "b\n",
      "it is consonent\n"
     ]
    }
   ],
   "source": [
    "#problem :Write a Python program that takes a single character as input and prints whether it is a vowel or a consonant. Assume the input is a lowercase letter\n",
    "\n",
    "alphabet = input(\"Enter the alphabet \\n\")\n",
    "if alphabet in ('a','e','i','o','u','A','E','I','O','U'):\n",
    "    print(\"it is vowel\")\n",
    "else:\n",
    "    print(\"it is Consonant\")\n"
   ]
  }
 ],
 "metadata": {
  "kernelspec": {
   "display_name": "Python 3 (ipykernel)",
   "language": "python",
   "name": "python3"
  },
  "language_info": {
   "codemirror_mode": {
    "name": "ipython",
    "version": 3
   },
   "file_extension": ".py",
   "mimetype": "text/x-python",
   "name": "python",
   "nbconvert_exporter": "python",
   "pygments_lexer": "ipython3",
   "version": "3.11.5"
  }
 },
 "nbformat": 4,
 "nbformat_minor": 5
}
